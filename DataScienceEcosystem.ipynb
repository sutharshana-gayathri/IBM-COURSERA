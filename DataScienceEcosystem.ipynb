{
  "metadata": {
    "kernelspec": {
      "name": "python",
      "display_name": "Python (Pyodide)",
      "language": "python"
    },
    "language_info": {
      "codemirror_mode": {
        "name": "python",
        "version": 3
      },
      "file_extension": ".py",
      "mimetype": "text/x-python",
      "name": "python",
      "nbconvert_exporter": "python",
      "pygments_lexer": "ipython3",
      "version": "3.8"
    }
  },
  "nbformat_minor": 4,
  "nbformat": 4,
  "cells": [
    {
      "cell_type": "markdown",
      "source": "#Data science Tools and Ecosystem",
      "metadata": {}
    },
    {
      "cell_type": "markdown",
      "source": "#In this notebook Data science and ecosystem are summarized.",
      "metadata": {}
    },
    {
      "cell_type": "markdown",
      "source": "# Data Science Languages Overview\n\nSome of the popular languages that Data Scientists use are:\n\n1. **Python**\n   - Python is widely used in the data science community for its simplicity, extensive libraries (such as NumPy, Pandas, and scikit-learn), and versatility.\n\n2. **R**\n   - R is another statistical programming language commonly used for data analysis, visualization, and statistical modeling.\n       \n3. **SQL**\n   - SQL (Structured Query Language) is essential for working with databases and querying structured data, a crucial aspect of data science.\n\n",
      "metadata": {}
    },
    {
      "cell_type": "markdown",
      "source": "**Objectives:**\n\n- Explore popular languages used in Data Science.\n- Understand commonly used libraries in the Data Science ecosystem.\n- Introduce various Data Science tools and development environments.\n- Demonstrate the evaluation of arithmetic expressions in Python.\n- Perform a simple conversion from minutes to hours using Python.\n",
      "metadata": {}
    },
    {
      "cell_type": "markdown",
      "source": "# Data Science Libraries Overview\n\nSome of the commonly used libraries by Data Scientists include:\n\n1. **NumPy**\n   - NumPy is a fundamental library for scientific computing in Python. It provides support for large, multi-dimensional arrays and matrices, along with mathematical functions to operate on these arrays.\n\n2. **Pandas**\n   - Pandas is a powerful data manipulation and analysis library for Python. It provides data structures like DataFrame, which is ideal for working with structured data.\n\n3. **Matplotlib**\n   - Matplotlib is a versatile plotting library for Python. It enables the creation of a wide variety of static, animated, and interactive visualizations in Python.\n",
      "metadata": {}
    },
    {
      "cell_type": "markdown",
      "source": "# Data Science Tools\n\n| Development Environment Tools |\n| ----------------------------- |\n| **Jupyter Notebooks**         |\n| **RStudio**                   |\n| **VS Code with Python**       |\n",
      "metadata": {}
    },
    {
      "cell_type": "markdown",
      "source": "### Examples of Evaluating Arithmetic Expressions in Python\n\nBelow are a few examples of evaluating arithmetic expressions in Python.\n(20+5)/5",
      "metadata": {}
    },
    {
      "cell_type": "code",
      "source": "# This is a simple arithmetic expression to multiply then add integers.\nresult = (3 * 4) + 5\nresult\n",
      "metadata": {
        "trusted": true
      },
      "outputs": [
        {
          "execution_count": 2,
          "output_type": "execute_result",
          "data": {
            "text/plain": "17"
          },
          "metadata": {}
        }
      ],
      "execution_count": 2
    },
    {
      "cell_type": "code",
      "source": "# This will convert 200 minutes to hours by dividing by 60.\nminutes = 200\nhours = minutes / 60\nhours\n",
      "metadata": {
        "trusted": true
      },
      "outputs": [
        {
          "execution_count": 3,
          "output_type": "execute_result",
          "data": {
            "text/plain": "3.3333333333333335"
          },
          "metadata": {}
        }
      ],
      "execution_count": 3
    },
    {
      "cell_type": "markdown",
      "source": "## Author\n\nSutharshana Gayathri US\n",
      "metadata": {}
    },
    {
      "cell_type": "code",
      "source": "",
      "metadata": {
        "trusted": true
      },
      "outputs": [],
      "execution_count": null
    }
  ]
}